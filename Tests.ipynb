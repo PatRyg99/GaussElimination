{
 "cells": [
  {
   "cell_type": "code",
   "execution_count": 1,
   "metadata": {},
   "outputs": [],
   "source": [
    "using BenchmarkTools\n",
    "using SparseArrays"
   ]
  },
  {
   "cell_type": "code",
   "execution_count": 2,
   "metadata": {},
   "outputs": [],
   "source": [
    "include(\"./blocksys.jl\")\n",
    "include(\"./structs/matrice.jl\")\n",
    "\n",
    "using .blocksys: gauss_elimination\n",
    "using .Matrice: load_matrice, load_vector"
   ]
  },
  {
   "cell_type": "code",
   "execution_count": 3,
   "metadata": {},
   "outputs": [
    {
     "output_type": "stream",
     "name": "stdout",
     "text": [
      "Loaded matrice with size 10000 and sub_size 4.\nLoaded vector with size 10000.\n"
     ]
    },
    {
     "output_type": "execute_result",
     "data": {
      "text/plain": [
       "10000-element Array{Float64,1}:\n",
       "  3.4323111523855276\n",
       "  2.6385231514708107\n",
       "  2.669964816813537\n",
       " -3.6901924658919767\n",
       " -1.234968289504692\n",
       "  3.410408187806507\n",
       "  3.1312140517393927\n",
       "  0.8883408423036089\n",
       " -5.164923421381156\n",
       "  5.174187942428545\n",
       "  2.67872748283667\n",
       "  1.4682654180227395\n",
       "  0.9407245218477605\n",
       "  ⋮\n",
       "  1.1350218697586716\n",
       "  1.8720345862914884\n",
       " -0.9459042440865034\n",
       "  5.124463018956728\n",
       "  1.7083528365847158\n",
       "  0.9749358716765134\n",
       "  1.3050762413350299\n",
       "  2.2522235157059383\n",
       " -3.114573681171117\n",
       " -0.4856714407891314\n",
       "  4.1980003827713075\n",
       "  2.9171025926706706"
      ]
     },
     "metadata": {},
     "execution_count": 3
    }
   ],
   "source": [
    "A = load_matrice(\"data/Dane10000/A.txt\")\n",
    "b = load_vector(\"data/Dane10000/b.txt\")"
   ]
  },
  {
   "cell_type": "code",
   "execution_count": 4,
   "metadata": {},
   "outputs": [
    {
     "output_type": "stream",
     "name": "stdout",
     "text": [
      "  4.473463 seconds (4.61 M allocations: 854.792 MiB, 5.21% gc time)\n"
     ]
    },
    {
     "output_type": "execute_result",
     "data": {
      "text/plain": [
       "10000-element Array{Float64,1}:\n",
       " 0.9999999999999998\n",
       " 0.9999999999999999\n",
       " 0.9999999999999998\n",
       " 0.9999999999999998\n",
       " 1.0000000000000004\n",
       " 1.0000000000000004\n",
       " 1.0000000000000007\n",
       " 1.0000000000000004\n",
       " 1.0000000000000002\n",
       " 1.0\n",
       " 1.0\n",
       " 1.0\n",
       " 0.9999999999999998\n",
       " ⋮\n",
       " 1.0000000000000002\n",
       " 1.0\n",
       " 1.0000000000000002\n",
       " 0.9999999999999999\n",
       " 0.9999999999999999\n",
       " 0.9999999999999999\n",
       " 0.9999999999999999\n",
       " 0.9999999999999998\n",
       " 1.0000000000000004\n",
       " 1.0000000000000004\n",
       " 1.0\n",
       " 1.0000000000000002"
      ]
     },
     "metadata": {},
     "execution_count": 4
    }
   ],
   "source": [
    "# Julia Gauss\n",
    "@time (A.data \\ b)"
   ]
  },
  {
   "cell_type": "code",
   "execution_count": 5,
   "metadata": {},
   "outputs": [
    {
     "output_type": "stream",
     "name": "stdout",
     "text": [
      "  0.503823 seconds (3.53 M allocations: 114.767 MiB)\n"
     ]
    },
    {
     "output_type": "execute_result",
     "data": {
      "text/plain": [
       "10000-element Array{Float64,1}:\n",
       " 0.9999999999999978\n",
       " 0.9999999999999996\n",
       " 0.9999999999999981\n",
       " 0.999999999999999\n",
       " 1.0000000000000007\n",
       " 1.0000000000000009\n",
       " 1.0000000000000007\n",
       " 1.0000000000000004\n",
       " 0.9999999999999993\n",
       " 0.9999999999999997\n",
       " 1.0000000000000002\n",
       " 0.9999999999999996\n",
       " 0.9999999999999988\n",
       " ⋮\n",
       " 1.0\n",
       " 0.9999999999999996\n",
       " 1.0000000000000002\n",
       " 0.9999999999999998\n",
       " 1.0000000000000042\n",
       " 1.0000000000000007\n",
       " 0.9999999999999999\n",
       " 1.0000000000000029\n",
       " 0.9999999999999959\n",
       " 0.9999999999999964\n",
       " 0.9999999999999981\n",
       " 0.9999999999999977"
      ]
     },
     "metadata": {},
     "execution_count": 5
    }
   ],
   "source": [
    "# Gauss implementation to specific matrice\n",
    "@time gauss_elimination(A, b)"
   ]
  }
 ],
 "metadata": {
  "kernelspec": {
   "display_name": "Julia 1.5.2",
   "language": "julia",
   "name": "julia-1.5"
  },
  "language_info": {
   "file_extension": ".jl",
   "mimetype": "application/julia",
   "name": "julia",
   "version": "1.5.2"
  }
 },
 "nbformat": 4,
 "nbformat_minor": 4
}