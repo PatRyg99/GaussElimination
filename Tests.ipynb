{
 "cells": [
  {
   "cell_type": "code",
   "execution_count": 1,
   "metadata": {},
   "outputs": [],
   "source": [
    "using BenchmarkTools\n",
    "using SparseArrays"
   ]
  },
  {
   "cell_type": "code",
   "execution_count": 2,
   "metadata": {},
   "outputs": [],
   "source": [
    "include(\"./blocksys.jl\")\n",
    "include(\"./structs/matrice.jl\")\n",
    "\n",
    "using .blocksys: gauss_elimination\n",
    "using .Matrice: load_matrice, load_vector"
   ]
  },
  {
   "cell_type": "code",
   "execution_count": 3,
   "metadata": {},
   "outputs": [
    {
     "output_type": "stream",
     "name": "stdout",
     "text": [
      "Loaded matrice with size 50000 and sub_size 4.\nLoaded vector with size 50000.\n"
     ]
    },
    {
     "output_type": "execute_result",
     "data": {
      "text/plain": [
       "50000-element Array{Float64,1}:\n",
       "  0.46695202644106565\n",
       " -2.2327549384260448\n",
       "  4.090850802847648\n",
       "  0.5512742348233743\n",
       "  0.712407261661286\n",
       "  1.4179006941414019\n",
       "  1.0395045411211754\n",
       "  1.9843862764575513\n",
       "  7.206233899226621\n",
       "  1.687965393324938\n",
       "  0.4618810941472799\n",
       " -3.3198387484656533\n",
       " -0.12593350704720152\n",
       "  ⋮\n",
       " -1.1785961549013666\n",
       " -3.071458267726824\n",
       "  3.668416977931253\n",
       "  4.516238685975675\n",
       "  2.06243739448339\n",
       " -1.1960386476182492\n",
       "  4.798476333212222\n",
       " -0.16707207166887852\n",
       "  2.9585590949905995\n",
       "  0.6680366015224628\n",
       "  2.7582587113713366\n",
       " -1.5551089660438135"
      ]
     },
     "metadata": {},
     "execution_count": 3
    }
   ],
   "source": [
    "A = load_matrice(\"data/Dane50000/A.txt\")\n",
    "b = load_vector(\"data/Dane50000/b.txt\")"
   ]
  },
  {
   "cell_type": "code",
   "execution_count": 4,
   "metadata": {},
   "outputs": [
    {
     "output_type": "stream",
     "name": "stdout",
     "text": [
      "  4.473463 seconds (4.61 M allocations: 854.792 MiB, 5.21% gc time)\n"
     ]
    },
    {
     "output_type": "execute_result",
     "data": {
      "text/plain": [
       "10000-element Array{Float64,1}:\n",
       " 0.9999999999999998\n",
       " 0.9999999999999999\n",
       " 0.9999999999999998\n",
       " 0.9999999999999998\n",
       " 1.0000000000000004\n",
       " 1.0000000000000004\n",
       " 1.0000000000000007\n",
       " 1.0000000000000004\n",
       " 1.0000000000000002\n",
       " 1.0\n",
       " 1.0\n",
       " 1.0\n",
       " 0.9999999999999998\n",
       " ⋮\n",
       " 1.0000000000000002\n",
       " 1.0\n",
       " 1.0000000000000002\n",
       " 0.9999999999999999\n",
       " 0.9999999999999999\n",
       " 0.9999999999999999\n",
       " 0.9999999999999999\n",
       " 0.9999999999999998\n",
       " 1.0000000000000004\n",
       " 1.0000000000000004\n",
       " 1.0\n",
       " 1.0000000000000002"
      ]
     },
     "metadata": {},
     "execution_count": 4
    }
   ],
   "source": [
    "# Julia Gauss\n",
    "@time (A.data \\ b)"
   ]
  },
  {
   "cell_type": "code",
   "execution_count": 5,
   "metadata": {},
   "outputs": [
    {
     "output_type": "stream",
     "name": "stdout",
     "text": [
      "  0.503823 seconds (3.53 M allocations: 114.767 MiB)\n"
     ]
    },
    {
     "output_type": "execute_result",
     "data": {
      "text/plain": [
       "10000-element Array{Float64,1}:\n",
       " 0.9999999999999978\n",
       " 0.9999999999999996\n",
       " 0.9999999999999981\n",
       " 0.999999999999999\n",
       " 1.0000000000000007\n",
       " 1.0000000000000009\n",
       " 1.0000000000000007\n",
       " 1.0000000000000004\n",
       " 0.9999999999999993\n",
       " 0.9999999999999997\n",
       " 1.0000000000000002\n",
       " 0.9999999999999996\n",
       " 0.9999999999999988\n",
       " ⋮\n",
       " 1.0\n",
       " 0.9999999999999996\n",
       " 1.0000000000000002\n",
       " 0.9999999999999998\n",
       " 1.0000000000000042\n",
       " 1.0000000000000007\n",
       " 0.9999999999999999\n",
       " 1.0000000000000029\n",
       " 0.9999999999999959\n",
       " 0.9999999999999964\n",
       " 0.9999999999999981\n",
       " 0.9999999999999977"
      ]
     },
     "metadata": {},
     "execution_count": 5
    }
   ],
   "source": [
    "# Gauss implementation to specific matrice\n",
    "@time gauss_elimination(A, b)"
   ]
  }
 ],
 "metadata": {
  "kernelspec": {
   "display_name": "Julia 1.5.2",
   "language": "julia",
   "name": "julia-1.5"
  },
  "language_info": {
   "file_extension": ".jl",
   "mimetype": "application/julia",
   "name": "julia",
   "version": "1.5.2"
  }
 },
 "nbformat": 4,
 "nbformat_minor": 4
}