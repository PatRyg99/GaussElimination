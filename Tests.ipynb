{
 "cells": [
  {
   "cell_type": "code",
   "execution_count": 5,
   "metadata": {},
   "outputs": [
    {
     "output_type": "stream",
     "name": "stderr",
     "text": [
      "WARNING: replacing module blocksys.\nWARNING: replacing module Matrice.\nWARNING: ignoring conflicting import of blocksys.gauss_elimination into Main\nWARNING: ignoring conflicting import of Matrice.load_matrice into Main\nWARNING: ignoring conflicting import of Matrice.load_vector into Main\n"
     ]
    }
   ],
   "source": [
    "include(\"./blocksys.jl\")\n",
    "include(\"./structs/matrice.jl\")\n",
    "\n",
    "using .blocksys: gauss_elimination\n",
    "using .Matrice: load_matrice, load_vector"
   ]
  },
  {
   "cell_type": "code",
   "execution_count": 7,
   "metadata": {},
   "outputs": [
    {
     "output_type": "stream",
     "name": "stdout",
     "text": [
      "Loaded matrice with size 16 and sub_size 4.\nLoaded vector with size 0.\n"
     ]
    },
    {
     "output_type": "execute_result",
     "data": {
      "text/plain": [
       "16-element Array{Float64,1}:\n",
       "  2.5766127043066267\n",
       "  0.22262875140362723\n",
       "  2.5407983784381454\n",
       " -0.8059533890034357\n",
       " -0.9215537121431373\n",
       " -1.7842163071531725\n",
       "  6.177975978720661\n",
       "  0.058735241454084985\n",
       "  3.57440194333687\n",
       "  2.2664366406035943\n",
       " -0.6564884305649747\n",
       " -0.1882688976733593\n",
       "  0.4672075394498107\n",
       "  4.3913570168563005\n",
       "  1.32735255307743\n",
       " -2.263440204814917"
      ]
     },
     "metadata": {},
     "execution_count": 7
    }
   ],
   "source": [
    "A = load_matrice(\"data/Dane16/A.txt\")\n",
    "b = load_vector(\"data/Dane16/b.txt\")"
   ]
  },
  {
   "cell_type": "code",
   "execution_count": 8,
   "metadata": {},
   "outputs": [
    {
     "output_type": "execute_result",
     "data": {
      "text/plain": [
       "16-element Array{Float64,1}:\n",
       " 0.9999999999999998\n",
       " 0.9999999999999997\n",
       " 0.9999999999999998\n",
       " 0.9999999999999997\n",
       " 1.0000000000000002\n",
       " 1.0000000000000002\n",
       " 1.0000000000000002\n",
       " 1.0000000000000004\n",
       " 0.9999999999999996\n",
       " 0.9999999999999997\n",
       " 0.9999999999999998\n",
       " 0.9999999999999993\n",
       " 0.9999999999999999\n",
       " 1.0000000000000002\n",
       " 1.0\n",
       " 1.0000000000000002"
      ]
     },
     "metadata": {},
     "execution_count": 8
    }
   ],
   "source": [
    "# Julia Gauss\n",
    "A.data \\ b"
   ]
  },
  {
   "cell_type": "code",
   "execution_count": 9,
   "metadata": {},
   "outputs": [
    {
     "output_type": "execute_result",
     "data": {
      "text/plain": [
       "16-element Array{Float64,1}:\n",
       " 1.0000000000000007\n",
       " 1.000000000000001\n",
       " 1.0000000000000007\n",
       " 1.0000000000000016\n",
       " 0.9999999999999997\n",
       " 0.9999999999999996\n",
       " 0.9999999999999997\n",
       " 0.9999999999999993\n",
       " 1.0\n",
       " 1.0\n",
       " 1.0\n",
       " 1.0000000000000002\n",
       " 1.0000000000000002\n",
       " 1.0000000000000002\n",
       " 1.0\n",
       " 1.0000000000000002"
      ]
     },
     "metadata": {},
     "execution_count": 9
    }
   ],
   "source": [
    "# Gauss impl\n",
    "gauss_elimination(A, b)"
   ]
  }
 ],
 "metadata": {
  "kernelspec": {
   "display_name": "Julia 1.5.2",
   "language": "julia",
   "name": "julia-1.5"
  },
  "language_info": {
   "file_extension": ".jl",
   "mimetype": "application/julia",
   "name": "julia",
   "version": "1.5.2"
  }
 },
 "nbformat": 4,
 "nbformat_minor": 4
}