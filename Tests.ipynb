{
 "cells": [
  {
   "cell_type": "code",
   "execution_count": 1,
   "metadata": {},
   "outputs": [],
   "source": [
    "using BenchmarkTools\n",
    "using SparseArrays\n",
    "using LinearAlgebra"
   ]
  },
  {
   "cell_type": "code",
   "execution_count": 2,
   "metadata": {},
   "outputs": [],
   "source": [
    "include(\"./blocksys.jl\")\n",
    "include(\"./structs/matrice.jl\")\n",
    "\n",
    "using .blocksys: gauss_elimination, LU_decomposition, LU_gauss_elimination\n",
    "using .Matrice: load_sparse_matrice, load_vector, load_row_matrice"
   ]
  },
  {
   "cell_type": "markdown",
   "metadata": {},
   "source": [
    "## LU decomposition + Gauss elimination"
   ]
  },
  {
   "cell_type": "code",
   "execution_count": 3,
   "metadata": {},
   "outputs": [
    {
     "name": "stdout",
     "output_type": "stream",
     "text": [
      "Loaded matrice with size 50000 and sub_size 4.\n",
      "Loaded vector with size 50000.\n",
      "  1.006218 seconds (21.98 M allocations: 375.567 MiB, 15.31% gc time)\n"
     ]
    },
    {
     "data": {
      "text/plain": [
       "50000-element Array{Float64,1}:\n",
       " 1.0\n",
       " 1.0000000000000004\n",
       " 1.0\n",
       " 1.0\n",
       " 1.0\n",
       " 1.0\n",
       " 0.9999999999999997\n",
       " 1.0000000000000002\n",
       " 1.0000000000000004\n",
       " 1.0\n",
       " 1.0000000000000002\n",
       " 1.0\n",
       " 1.0\n",
       " ⋮\n",
       " 0.9999999999999992\n",
       " 0.9999999999999987\n",
       " 0.999999999999998\n",
       " 0.9999999999999986\n",
       " 1.0000000000000004\n",
       " 1.0000000000000004\n",
       " 1.0\n",
       " 1.0000000000000002\n",
       " 1.0000000000000004\n",
       " 1.0000000000000004\n",
       " 1.0000000000000007\n",
       " 1.0000000000000007"
      ]
     },
     "execution_count": 3,
     "metadata": {},
     "output_type": "execute_result"
    }
   ],
   "source": [
    "A = load_row_matrice(\"data/Dane50000/A.txt\")\n",
    "b = load_vector(\"data/Dane50000/b.txt\")\n",
    "@time LU_gauss_elimination(LU_decomposition(A, partial_choice=true)..., b)"
   ]
  },
  {
   "cell_type": "code",
   "execution_count": 4,
   "metadata": {},
   "outputs": [
    {
     "name": "stdout",
     "output_type": "stream",
     "text": [
      "Loaded matrice with size 50000 and sub_size 4.\n",
      "Loaded vector with size 50000.\n",
      "  0.701809 seconds (21.02 M allocations: 356.926 MiB, 2.80% gc time)\n"
     ]
    },
    {
     "data": {
      "text/plain": [
       "50000-element Array{Float64,1}:\n",
       " 1.0000000000000007\n",
       " 1.0000000000000007\n",
       " 1.0000000000000004\n",
       " 1.0000000000000004\n",
       " 1.0000000000000016\n",
       " 1.000000000000001\n",
       " 1.000000000000001\n",
       " 1.0000000000000009\n",
       " 0.9999999999999909\n",
       " 0.9999999999999981\n",
       " 0.9999999999999948\n",
       " 0.9999999999999931\n",
       " 1.0000000000000164\n",
       " ⋮\n",
       " 0.9999999999999991\n",
       " 0.9999999999999988\n",
       " 0.9999999999999982\n",
       " 0.9999999999999988\n",
       " 1.0000000000000002\n",
       " 0.9999999999999998\n",
       " 1.0\n",
       " 1.0\n",
       " 1.0000000000000013\n",
       " 1.0000000000000004\n",
       " 0.9999999999999999\n",
       " 1.0"
      ]
     },
     "execution_count": 4,
     "metadata": {},
     "output_type": "execute_result"
    }
   ],
   "source": [
    "A = load_row_matrice(\"data/Dane50000/A.txt\")\n",
    "b = load_vector(\"data/Dane50000/b.txt\")\n",
    "@time LU_gauss_elimination(LU_decomposition(A)..., b)"
   ]
  },
  {
   "cell_type": "markdown",
   "metadata": {},
   "source": [
    "## Gauss elimination"
   ]
  },
  {
   "cell_type": "code",
   "execution_count": 5,
   "metadata": {
    "tags": []
   },
   "outputs": [
    {
     "name": "stdout",
     "output_type": "stream",
     "text": [
      "Loaded matrice with size 50000 and sub_size 4.\n",
      "Loaded vector with size 50000.\n",
      "  0.843829 seconds (18.76 M allocations: 322.252 MiB, 16.75% gc time)\n"
     ]
    },
    {
     "data": {
      "text/plain": [
       "50000-element Array{Float64,1}:\n",
       " 1.0\n",
       " 1.0000000000000004\n",
       " 1.0\n",
       " 1.0\n",
       " 1.0\n",
       " 1.0\n",
       " 0.9999999999999997\n",
       " 1.0000000000000002\n",
       " 1.0000000000000004\n",
       " 1.0\n",
       " 1.0000000000000002\n",
       " 1.0\n",
       " 1.0\n",
       " ⋮\n",
       " 0.9999999999999992\n",
       " 0.9999999999999987\n",
       " 0.999999999999998\n",
       " 0.9999999999999986\n",
       " 1.0000000000000004\n",
       " 1.0000000000000004\n",
       " 1.0\n",
       " 1.0000000000000002\n",
       " 1.0000000000000004\n",
       " 1.0000000000000004\n",
       " 1.0000000000000007\n",
       " 1.0000000000000007"
      ]
     },
     "execution_count": 5,
     "metadata": {},
     "output_type": "execute_result"
    }
   ],
   "source": [
    "A = load_row_matrice(\"data/Dane50000/A.txt\")\n",
    "b = load_vector(\"data/Dane50000/b.txt\")\n",
    "@time gauss_elimination(A, b, partial_choice=true)"
   ]
  },
  {
   "cell_type": "code",
   "execution_count": 6,
   "metadata": {
    "tags": []
   },
   "outputs": [
    {
     "name": "stdout",
     "output_type": "stream",
     "text": [
      "Loaded matrice with size 50000 and sub_size 4.\n",
      "Loaded vector with size 50000.\n",
      "  0.590605 seconds (17.81 M allocations: 304.186 MiB, 2.65% gc time)\n"
     ]
    },
    {
     "data": {
      "text/plain": [
       "50000-element Array{Float64,1}:\n",
       " 1.0000000000000007\n",
       " 1.0000000000000007\n",
       " 1.0000000000000004\n",
       " 1.0000000000000004\n",
       " 1.0000000000000016\n",
       " 1.000000000000001\n",
       " 1.000000000000001\n",
       " 1.0000000000000009\n",
       " 0.9999999999999909\n",
       " 0.9999999999999981\n",
       " 0.9999999999999948\n",
       " 0.9999999999999931\n",
       " 1.0000000000000164\n",
       " ⋮\n",
       " 0.9999999999999991\n",
       " 0.9999999999999988\n",
       " 0.9999999999999982\n",
       " 0.9999999999999988\n",
       " 1.0000000000000002\n",
       " 0.9999999999999998\n",
       " 1.0\n",
       " 1.0\n",
       " 1.0000000000000013\n",
       " 1.0000000000000004\n",
       " 0.9999999999999999\n",
       " 1.0"
      ]
     },
     "execution_count": 6,
     "metadata": {},
     "output_type": "execute_result"
    }
   ],
   "source": [
    "A = load_row_matrice(\"data/Dane50000/A.txt\")\n",
    "b = load_vector(\"data/Dane50000/b.txt\")\n",
    "@time gauss_elimination(A, b)"
   ]
  }
 ],
 "metadata": {
  "kernelspec": {
   "display_name": "Julia 1.5.2",
   "language": "julia",
   "name": "julia-1.5"
  },
  "language_info": {
   "file_extension": ".jl",
   "mimetype": "application/julia",
   "name": "julia",
   "version": "1.5.2"
  }
 },
 "nbformat": 4,
 "nbformat_minor": 4
}
