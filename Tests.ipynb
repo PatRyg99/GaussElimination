{
 "cells": [
  {
   "cell_type": "code",
   "execution_count": 1,
   "metadata": {},
   "outputs": [],
   "source": [
    "using BenchmarkTools\n",
    "using SparseArrays"
   ]
  },
  {
   "cell_type": "code",
   "execution_count": 2,
   "metadata": {},
   "outputs": [],
   "source": [
    "include(\"./blocksys.jl\")\n",
    "include(\"./structs/matrice.jl\")\n",
    "\n",
    "using .blocksys: gauss_elimination\n",
    "using .Matrice: load_sparse_matrice, load_vector, load_row_matrice"
   ]
  },
  {
   "cell_type": "code",
   "execution_count": 3,
   "metadata": {
    "tags": []
   },
   "outputs": [
    {
     "output_type": "stream",
     "name": "stdout",
     "text": [
      "Loaded matrice with size 50000 and sub_size 4.\n",
      "Loaded vector with size 50000.\n",
      "  1.092254 seconds (18.77 M allocations: 323.048 MiB, 16.45% gc time)\n"
     ]
    },
    {
     "output_type": "execute_result",
     "data": {
      "text/plain": [
       "50000-element Array{Float64,1}:\n",
       " 1.0\n",
       " 1.0000000000000004\n",
       " 1.0\n",
       " 1.0\n",
       " 1.0\n",
       " 1.0\n",
       " 0.9999999999999997\n",
       " 1.0000000000000002\n",
       " 1.0000000000000004\n",
       " 1.0\n",
       " 1.0000000000000002\n",
       " 1.0\n",
       " 1.0\n",
       " ⋮\n",
       " 0.9999999999999992\n",
       " 0.9999999999999987\n",
       " 0.999999999999998\n",
       " 0.9999999999999986\n",
       " 1.0000000000000004\n",
       " 1.0000000000000004\n",
       " 1.0\n",
       " 1.0000000000000002\n",
       " 1.0000000000000004\n",
       " 1.0000000000000004\n",
       " 1.0000000000000007\n",
       " 1.0000000000000007"
      ]
     },
     "metadata": {},
     "execution_count": 3
    }
   ],
   "source": [
    "A = load_row_matrice(\"data/Dane50000/A.txt\")\n",
    "b = load_vector(\"data/Dane50000/b.txt\")\n",
    "@time gauss_elimination(A, b, partial_choice=true)"
   ]
  },
  {
   "cell_type": "code",
   "execution_count": 4,
   "metadata": {
    "tags": []
   },
   "outputs": [
    {
     "output_type": "stream",
     "name": "stdout",
     "text": [
      "Loaded matrice with size 50000 and sub_size 4.\n",
      "Loaded vector with size 50000.\n",
      "  0.685370 seconds (17.81 M allocations: 304.186 MiB, 2.52% gc time)\n"
     ]
    },
    {
     "output_type": "execute_result",
     "data": {
      "text/plain": [
       "50000-element Array{Float64,1}:\n",
       " 1.0000000000000007\n",
       " 1.0000000000000007\n",
       " 1.0000000000000004\n",
       " 1.0000000000000004\n",
       " 1.0000000000000016\n",
       " 1.000000000000001\n",
       " 1.000000000000001\n",
       " 1.0000000000000009\n",
       " 0.9999999999999909\n",
       " 0.9999999999999981\n",
       " 0.9999999999999948\n",
       " 0.9999999999999931\n",
       " 1.0000000000000164\n",
       " ⋮\n",
       " 0.9999999999999991\n",
       " 0.9999999999999988\n",
       " 0.9999999999999982\n",
       " 0.9999999999999988\n",
       " 1.0000000000000002\n",
       " 0.9999999999999998\n",
       " 1.0\n",
       " 1.0\n",
       " 1.0000000000000013\n",
       " 1.0000000000000004\n",
       " 0.9999999999999999\n",
       " 1.0"
      ]
     },
     "metadata": {},
     "execution_count": 4
    }
   ],
   "source": [
    "A = load_row_matrice(\"data/Dane50000/A.txt\")\n",
    "b = load_vector(\"data/Dane50000/b.txt\")\n",
    "@time gauss_elimination(A, b)"
   ]
  }
 ],
 "metadata": {
  "kernelspec": {
   "display_name": "Julia 1.5.2",
   "language": "julia",
   "name": "julia-1.5"
  },
  "language_info": {
   "file_extension": ".jl",
   "mimetype": "application/julia",
   "name": "julia",
   "version": "1.5.2"
  }
 },
 "nbformat": 4,
 "nbformat_minor": 4
}