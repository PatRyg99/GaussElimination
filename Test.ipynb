{
 "cells": [
  {
   "cell_type": "markdown",
   "metadata": {},
   "source": [
    "## Patryk Rygiel\n",
    "### 250080"
   ]
  },
  {
   "cell_type": "code",
   "execution_count": 5,
   "metadata": {},
   "outputs": [
    {
     "name": "stderr",
     "output_type": "stream",
     "text": [
      "WARNING: replacing module Launchers.\n",
      "WARNING: ignoring conflicting import of Launchers.launch_gauss into Main\n",
      "WARNING: ignoring conflicting import of Launchers.launch_LU_gauss into Main\n"
     ]
    }
   ],
   "source": [
    "include(\"./launchers.jl\")\n",
    "using .Launchers: launch_gauss, launch_LU_gauss"
   ]
  },
  {
   "cell_type": "markdown",
   "metadata": {},
   "source": [
    "## Odpalanie programów\n",
    "\n",
    "Poniżej w komórkach zamiesczone są skrypty do uruchomienia programów. Funkcja `launch_gauss()` uruchamia klasyczny algorytm eliminacji Gaussa, natomiast funkcja `launch_LU_gauss()` uruchamia algorytm eliminacji Gaussa z użyciem rozkładu LU. Obie funkcje posiadają parametr `partial_choice` który pozwala uruchomić algorytmy z użyciem częściowego wyboru elementu głównego. Obie funkcje zamieszczone są w pliku `launchers.jl`.\n",
    "\n",
    "Dane wejściowe:\n",
    "* **A_file**: ścieżka do pliku z macierzą **A**\n",
    "* **b_file** (opcjonalny): ścieżka do pliku z wektorem **b**, jeśli nie podana wektor **b** jest generowany przy użyciu $x = (1, ..., 1)$\n",
    "* **partial_choice** (domyślnie false): gdy parametr ustawiony na true, algorytm wykonuje się z częściowym wyborem elementu głównego\n",
    "\n",
    "Obie funkcje generują rozwiązanie i zapisują do pliku `x.txt` znajdującego się w tym samym folderze co macierz *A*."
   ]
  },
  {
   "cell_type": "code",
   "execution_count": 6,
   "metadata": {},
   "outputs": [
    {
     "data": {
      "text/plain": [
       "\"data/Dane16/A.txt\""
      ]
     },
     "execution_count": 6,
     "metadata": {},
     "output_type": "execute_result"
    }
   ],
   "source": [
    "# Scieżka do pliku z macierzą A\n",
    "A_file = \"data/Dane16/A.txt\""
   ]
  },
  {
   "cell_type": "markdown",
   "metadata": {},
   "source": [
    "## Eliminacja Gaussa"
   ]
  },
  {
   "cell_type": "code",
   "execution_count": 7,
   "metadata": {},
   "outputs": [
    {
     "name": "stderr",
     "output_type": "stream",
     "text": [
      "┌ Info:  started timer at: 2021-01-08T12:16:46.474\n",
      "└ @ TickTock C:\\Users\\Patryk\\.julia\\packages\\TickTock\\RsTHR\\src\\TickTock.jl:32\n"
     ]
    },
    {
     "data": {
      "text/plain": [
       "([1.0000000000000007, 1.000000000000001, 1.0000000000000007, 1.0000000000000016, 0.9999999999999997, 0.9999999999999996, 0.9999999999999997, 0.9999999999999993, 1.0, 1.0, 1.0, 1.0000000000000002, 1.0000000000000002, 1.0000000000000002, 1.0, 1.0000000000000002], 0.000512999, 5.913957033160809e-16)"
      ]
     },
     "execution_count": 7,
     "metadata": {},
     "output_type": "execute_result"
    }
   ],
   "source": [
    "launch_gauss(A_file)"
   ]
  },
  {
   "cell_type": "markdown",
   "metadata": {},
   "source": [
    "## Eliminacja Gaussa z częściowym wyborem elementu głównego"
   ]
  },
  {
   "cell_type": "code",
   "execution_count": 8,
   "metadata": {},
   "outputs": [
    {
     "name": "stderr",
     "output_type": "stream",
     "text": [
      "┌ Info:  started timer at: 2021-01-08T12:16:49.415\n",
      "└ @ TickTock C:\\Users\\Patryk\\.julia\\packages\\TickTock\\RsTHR\\src\\TickTock.jl:32\n"
     ]
    },
    {
     "data": {
      "text/plain": [
       "([0.9999999999999999, 0.9999999999999998, 0.9999999999999998, 0.9999999999999998, 1.0000000000000004, 1.0000000000000004, 1.0000000000000002, 1.0000000000000007, 0.9999999999999997, 0.9999999999999998, 0.9999999999999998, 0.9999999999999997, 1.0, 1.0, 0.9999999999999998, 1.0], 0.006489101, 2.9764538874609303e-16)"
      ]
     },
     "execution_count": 8,
     "metadata": {},
     "output_type": "execute_result"
    }
   ],
   "source": [
    "launch_gauss(A_file, partial_choice=true)"
   ]
  },
  {
   "cell_type": "markdown",
   "metadata": {},
   "source": [
    "## Eliminacja Gaussa przy użyciu rozkładu LU"
   ]
  },
  {
   "cell_type": "code",
   "execution_count": 9,
   "metadata": {},
   "outputs": [
    {
     "name": "stderr",
     "output_type": "stream",
     "text": [
      "┌ Info:  started timer at: 2021-01-08T12:16:50.37\n",
      "└ @ TickTock C:\\Users\\Patryk\\.julia\\packages\\TickTock\\RsTHR\\src\\TickTock.jl:32\n"
     ]
    },
    {
     "data": {
      "text/plain": [
       "([1.0000000000000007, 1.000000000000001, 1.0000000000000007, 1.0000000000000016, 0.9999999999999997, 0.9999999999999996, 0.9999999999999997, 0.9999999999999993, 1.0, 1.0, 1.0, 1.0000000000000002, 1.0000000000000002, 1.0000000000000002, 1.0, 1.0000000000000002], 0.0248858, 5.913957033160809e-16)"
      ]
     },
     "execution_count": 9,
     "metadata": {},
     "output_type": "execute_result"
    }
   ],
   "source": [
    "launch_LU_gauss(A_file)"
   ]
  },
  {
   "cell_type": "markdown",
   "metadata": {},
   "source": [
    "## Eliminacja Gaussa przy użyciu rozkładu LU oraz z częściowym wyborem elementu głównego"
   ]
  },
  {
   "cell_type": "code",
   "execution_count": 10,
   "metadata": {},
   "outputs": [
    {
     "name": "stderr",
     "output_type": "stream",
     "text": [
      "┌ Info:  started timer at: 2021-01-08T12:16:52.233\n",
      "└ @ TickTock C:\\Users\\Patryk\\.julia\\packages\\TickTock\\RsTHR\\src\\TickTock.jl:32\n"
     ]
    },
    {
     "data": {
      "text/plain": [
       "([0.9999999999999999, 0.9999999999999998, 0.9999999999999998, 0.9999999999999998, 1.0000000000000004, 1.0000000000000004, 1.0000000000000002, 1.0000000000000007, 0.9999999999999997, 0.9999999999999998, 0.9999999999999998, 0.9999999999999997, 1.0, 1.0, 0.9999999999999998, 1.0], 0.0004275, 2.9764538874609303e-16)"
      ]
     },
     "execution_count": 10,
     "metadata": {},
     "output_type": "execute_result"
    }
   ],
   "source": [
    "launch_LU_gauss(A_file, partial_choice=true)"
   ]
  }
 ],
 "metadata": {
  "kernelspec": {
   "display_name": "Julia 1.5.2",
   "language": "julia",
   "name": "julia-1.5"
  },
  "language_info": {
   "file_extension": ".jl",
   "mimetype": "application/julia",
   "name": "julia",
   "version": "1.5.2"
  }
 },
 "nbformat": 4,
 "nbformat_minor": 4
}
