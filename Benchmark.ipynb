{
 "cells": [
  {
   "cell_type": "markdown",
   "metadata": {},
   "source": [
    "## Patryk Rygiel"
   ]
  },
  {
   "cell_type": "code",
   "execution_count": 1,
   "metadata": {},
   "outputs": [],
   "source": [
    "import Statistics\n",
    "using Suppressor\n",
    "\n",
    "include(\"./matrixgen.jl\")\n",
    "using .matrixgen: blockmat\n",
    "\n",
    "include(\"./launchers.jl\")\n",
    "using .Launchers: launch_gauss, launch_LU_gauss"
   ]
  },
  {
   "cell_type": "markdown",
   "metadata": {},
   "source": [
    "## Generating data"
   ]
  },
  {
   "cell_type": "code",
   "execution_count": 2,
   "metadata": {},
   "outputs": [
    {
     "data": {
      "text/plain": [
       "\"benchmark\""
      ]
     },
     "execution_count": 2,
     "metadata": {},
     "output_type": "execute_result"
    }
   ],
   "source": [
    "root = \"benchmark\""
   ]
  },
  {
   "cell_type": "code",
   "execution_count": 3,
   "metadata": {},
   "outputs": [
    {
     "data": {
      "text/plain": [
       "28-element Array{Int64,1}:\n",
       "    100\n",
       "    200\n",
       "    300\n",
       "    400\n",
       "    500\n",
       "    600\n",
       "    700\n",
       "    800\n",
       "    900\n",
       "   1000\n",
       "   2000\n",
       "   3000\n",
       "   4000\n",
       "      ⋮\n",
       "   8000\n",
       "   9000\n",
       "  10000\n",
       "  20000\n",
       "  30000\n",
       "  40000\n",
       "  50000\n",
       "  60000\n",
       "  70000\n",
       "  80000\n",
       "  90000\n",
       " 100000"
      ]
     },
     "execution_count": 3,
     "metadata": {},
     "output_type": "execute_result"
    }
   ],
   "source": [
    "range = [collect(100:100:900); collect(1000:1000:9000); collect(10000:10000:100000)]"
   ]
  },
  {
   "cell_type": "code",
   "execution_count": 4,
   "metadata": {},
   "outputs": [
    {
     "name": "stdout",
     "output_type": "stream",
     "text": [
      "Saved data for n=100\n",
      "Saved data for n=200\n",
      "Saved data for n=300\n",
      "Saved data for n=400\n",
      "Saved data for n=500\n",
      "Saved data for n=600\n",
      "Saved data for n=700\n",
      "Saved data for n=800\n",
      "Saved data for n=900\n",
      "Saved data for n=1000\n",
      "Saved data for n=2000\n",
      "Saved data for n=3000\n",
      "Saved data for n=4000\n",
      "Saved data for n=5000\n",
      "Saved data for n=6000\n",
      "Saved data for n=7000\n",
      "Saved data for n=8000\n",
      "Saved data for n=9000\n",
      "Saved data for n=10000\n",
      "Saved data for n=20000\n",
      "Saved data for n=30000\n",
      "Saved data for n=40000\n",
      "Saved data for n=50000\n",
      "Saved data for n=60000\n",
      "Saved data for n=70000\n",
      "Saved data for n=80000\n",
      "Saved data for n=90000\n",
      "Saved data for n=100000\n"
     ]
    }
   ],
   "source": [
    "for i in range\n",
    "    blockmat(i, 4 ,10.0, root * \"/data/A$i.txt\")\n",
    "    println(\"Saved data for n=$i\")\n",
    "end"
   ]
  },
  {
   "cell_type": "markdown",
   "metadata": {},
   "source": [
    "## Benchmarking algorithms\n",
    "\n",
    "For each algorithm time and error will be computed for generated matrices above.  \n",
    "For each benchmarking case there will be 20 repeats and then an average computed."
   ]
  },
  {
   "cell_type": "code",
   "execution_count": 5,
   "metadata": {},
   "outputs": [
    {
     "data": {
      "text/plain": [
       "benchmark (generic function with 1 method)"
      ]
     },
     "execution_count": 5,
     "metadata": {},
     "output_type": "execute_result"
    }
   ],
   "source": [
    "function benchmark(func, partial_choice, out_file, repeats)\n",
    "    \n",
    "    open(root * \"/\" * out_file, \"w\") do out \n",
    "        for file in readdir(root * \"/data\"; join=true)\n",
    "            times = []\n",
    "            errs = []\n",
    "            x = 0\n",
    "            \n",
    "            @suppress begin\n",
    "                for i in 1:repeats\n",
    "                    x, time, err = func(file, partial_choice=partial_choice)\n",
    "                    push!(times, time)\n",
    "                    push!(errs, err)\n",
    "                    rm(root * \"/data/x.txt\")\n",
    "                end\n",
    "            end\n",
    "\n",
    "            time = Statistics.mean(times)\n",
    "            err = Statistics.mean(errs)\n",
    "            n = length(x)\n",
    "            \n",
    "            write(out, \"$n $time $err \\n\")\n",
    "            println(\"Benchmarked file: $file.\")\n",
    "        end\n",
    "    end\n",
    "end"
   ]
  },
  {
   "cell_type": "markdown",
   "metadata": {},
   "source": [
    "### 1. Gauss elimination"
   ]
  },
  {
   "cell_type": "code",
   "execution_count": 6,
   "metadata": {},
   "outputs": [
    {
     "name": "stdout",
     "output_type": "stream",
     "text": [
      "Benchmarked file: benchmark/data\\A100.txt.\n",
      "Benchmarked file: benchmark/data\\A1000.txt.\n",
      "Benchmarked file: benchmark/data\\A10000.txt.\n",
      "Benchmarked file: benchmark/data\\A100000.txt.\n",
      "Benchmarked file: benchmark/data\\A200.txt.\n",
      "Benchmarked file: benchmark/data\\A2000.txt.\n",
      "Benchmarked file: benchmark/data\\A20000.txt.\n",
      "Benchmarked file: benchmark/data\\A300.txt.\n",
      "Benchmarked file: benchmark/data\\A3000.txt.\n",
      "Benchmarked file: benchmark/data\\A30000.txt.\n",
      "Benchmarked file: benchmark/data\\A400.txt.\n",
      "Benchmarked file: benchmark/data\\A4000.txt.\n",
      "Benchmarked file: benchmark/data\\A40000.txt.\n",
      "Benchmarked file: benchmark/data\\A500.txt.\n",
      "Benchmarked file: benchmark/data\\A5000.txt.\n",
      "Benchmarked file: benchmark/data\\A50000.txt.\n",
      "Benchmarked file: benchmark/data\\A600.txt.\n",
      "Benchmarked file: benchmark/data\\A6000.txt.\n",
      "Benchmarked file: benchmark/data\\A60000.txt.\n",
      "Benchmarked file: benchmark/data\\A700.txt.\n",
      "Benchmarked file: benchmark/data\\A7000.txt.\n",
      "Benchmarked file: benchmark/data\\A70000.txt.\n",
      "Benchmarked file: benchmark/data\\A800.txt.\n",
      "Benchmarked file: benchmark/data\\A8000.txt.\n",
      "Benchmarked file: benchmark/data\\A80000.txt.\n",
      "Benchmarked file: benchmark/data\\A900.txt.\n",
      "Benchmarked file: benchmark/data\\A9000.txt.\n",
      "Benchmarked file: benchmark/data\\A90000.txt.\n"
     ]
    }
   ],
   "source": [
    "benchmark(launch_gauss, false, \"GaussStats.txt\", 20)"
   ]
  },
  {
   "cell_type": "markdown",
   "metadata": {},
   "source": [
    "### 2. Gauss elimination: partial choice"
   ]
  },
  {
   "cell_type": "code",
   "execution_count": 7,
   "metadata": {},
   "outputs": [
    {
     "name": "stdout",
     "output_type": "stream",
     "text": [
      "Benchmarked file: benchmark/data\\A100.txt.\n",
      "Benchmarked file: benchmark/data\\A1000.txt.\n",
      "Benchmarked file: benchmark/data\\A10000.txt.\n",
      "Benchmarked file: benchmark/data\\A100000.txt.\n",
      "Benchmarked file: benchmark/data\\A200.txt.\n",
      "Benchmarked file: benchmark/data\\A2000.txt.\n",
      "Benchmarked file: benchmark/data\\A20000.txt.\n",
      "Benchmarked file: benchmark/data\\A300.txt.\n",
      "Benchmarked file: benchmark/data\\A3000.txt.\n",
      "Benchmarked file: benchmark/data\\A30000.txt.\n",
      "Benchmarked file: benchmark/data\\A400.txt.\n",
      "Benchmarked file: benchmark/data\\A4000.txt.\n",
      "Benchmarked file: benchmark/data\\A40000.txt.\n",
      "Benchmarked file: benchmark/data\\A500.txt.\n",
      "Benchmarked file: benchmark/data\\A5000.txt.\n",
      "Benchmarked file: benchmark/data\\A50000.txt.\n",
      "Benchmarked file: benchmark/data\\A600.txt.\n",
      "Benchmarked file: benchmark/data\\A6000.txt.\n",
      "Benchmarked file: benchmark/data\\A60000.txt.\n",
      "Benchmarked file: benchmark/data\\A700.txt.\n",
      "Benchmarked file: benchmark/data\\A7000.txt.\n",
      "Benchmarked file: benchmark/data\\A70000.txt.\n",
      "Benchmarked file: benchmark/data\\A800.txt.\n",
      "Benchmarked file: benchmark/data\\A8000.txt.\n",
      "Benchmarked file: benchmark/data\\A80000.txt.\n",
      "Benchmarked file: benchmark/data\\A900.txt.\n",
      "Benchmarked file: benchmark/data\\A9000.txt.\n",
      "Benchmarked file: benchmark/data\\A90000.txt.\n"
     ]
    }
   ],
   "source": [
    "benchmark(launch_gauss, true, \"GaussChoiceStats.txt\", 20)"
   ]
  },
  {
   "cell_type": "markdown",
   "metadata": {},
   "source": [
    "### 3. Gauss elimination: LU decomposition"
   ]
  },
  {
   "cell_type": "code",
   "execution_count": 8,
   "metadata": {},
   "outputs": [
    {
     "name": "stdout",
     "output_type": "stream",
     "text": [
      "Benchmarked file: benchmark/data\\A100.txt.\n",
      "Benchmarked file: benchmark/data\\A1000.txt.\n",
      "Benchmarked file: benchmark/data\\A10000.txt.\n",
      "Benchmarked file: benchmark/data\\A100000.txt.\n",
      "Benchmarked file: benchmark/data\\A200.txt.\n",
      "Benchmarked file: benchmark/data\\A2000.txt.\n",
      "Benchmarked file: benchmark/data\\A20000.txt.\n",
      "Benchmarked file: benchmark/data\\A300.txt.\n",
      "Benchmarked file: benchmark/data\\A3000.txt.\n",
      "Benchmarked file: benchmark/data\\A30000.txt.\n",
      "Benchmarked file: benchmark/data\\A400.txt.\n",
      "Benchmarked file: benchmark/data\\A4000.txt.\n",
      "Benchmarked file: benchmark/data\\A40000.txt.\n",
      "Benchmarked file: benchmark/data\\A500.txt.\n",
      "Benchmarked file: benchmark/data\\A5000.txt.\n",
      "Benchmarked file: benchmark/data\\A50000.txt.\n",
      "Benchmarked file: benchmark/data\\A600.txt.\n",
      "Benchmarked file: benchmark/data\\A6000.txt.\n",
      "Benchmarked file: benchmark/data\\A60000.txt.\n",
      "Benchmarked file: benchmark/data\\A700.txt.\n",
      "Benchmarked file: benchmark/data\\A7000.txt.\n",
      "Benchmarked file: benchmark/data\\A70000.txt.\n",
      "Benchmarked file: benchmark/data\\A800.txt.\n",
      "Benchmarked file: benchmark/data\\A8000.txt.\n",
      "Benchmarked file: benchmark/data\\A80000.txt.\n",
      "Benchmarked file: benchmark/data\\A900.txt.\n",
      "Benchmarked file: benchmark/data\\A9000.txt.\n",
      "Benchmarked file: benchmark/data\\A90000.txt.\n"
     ]
    }
   ],
   "source": [
    "benchmark(launch_LU_gauss, false, \"GaussLUStats.txt\", 20)"
   ]
  },
  {
   "cell_type": "markdown",
   "metadata": {},
   "source": [
    "### 4. Gauss elimination with: LU decomposition + partial choice "
   ]
  },
  {
   "cell_type": "code",
   "execution_count": 9,
   "metadata": {},
   "outputs": [
    {
     "name": "stdout",
     "output_type": "stream",
     "text": [
      "Benchmarked file: benchmark/data\\A100.txt.\n",
      "Benchmarked file: benchmark/data\\A1000.txt.\n",
      "Benchmarked file: benchmark/data\\A10000.txt.\n",
      "Benchmarked file: benchmark/data\\A100000.txt.\n",
      "Benchmarked file: benchmark/data\\A200.txt.\n",
      "Benchmarked file: benchmark/data\\A2000.txt.\n",
      "Benchmarked file: benchmark/data\\A20000.txt.\n",
      "Benchmarked file: benchmark/data\\A300.txt.\n",
      "Benchmarked file: benchmark/data\\A3000.txt.\n",
      "Benchmarked file: benchmark/data\\A30000.txt.\n",
      "Benchmarked file: benchmark/data\\A400.txt.\n",
      "Benchmarked file: benchmark/data\\A4000.txt.\n",
      "Benchmarked file: benchmark/data\\A40000.txt.\n",
      "Benchmarked file: benchmark/data\\A500.txt.\n",
      "Benchmarked file: benchmark/data\\A5000.txt.\n",
      "Benchmarked file: benchmark/data\\A50000.txt.\n",
      "Benchmarked file: benchmark/data\\A600.txt.\n",
      "Benchmarked file: benchmark/data\\A6000.txt.\n",
      "Benchmarked file: benchmark/data\\A60000.txt.\n",
      "Benchmarked file: benchmark/data\\A700.txt.\n",
      "Benchmarked file: benchmark/data\\A7000.txt.\n",
      "Benchmarked file: benchmark/data\\A70000.txt.\n",
      "Benchmarked file: benchmark/data\\A800.txt.\n",
      "Benchmarked file: benchmark/data\\A8000.txt.\n",
      "Benchmarked file: benchmark/data\\A80000.txt.\n",
      "Benchmarked file: benchmark/data\\A900.txt.\n",
      "Benchmarked file: benchmark/data\\A9000.txt.\n",
      "Benchmarked file: benchmark/data\\A90000.txt.\n"
     ]
    }
   ],
   "source": [
    "benchmark(launch_LU_gauss, true, \"GaussLUChoiceStats.txt\", 20)"
   ]
  }
 ],
 "metadata": {
  "kernelspec": {
   "display_name": "Julia 1.5.2",
   "language": "julia",
   "name": "julia-1.5"
  },
  "language_info": {
   "file_extension": ".jl",
   "mimetype": "application/julia",
   "name": "julia",
   "version": "1.5.2"
  }
 },
 "nbformat": 4,
 "nbformat_minor": 4
}
