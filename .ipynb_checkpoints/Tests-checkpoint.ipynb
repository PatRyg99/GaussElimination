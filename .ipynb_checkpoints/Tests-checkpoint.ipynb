{
 "cells": [
  {
   "cell_type": "code",
   "execution_count": 1,
   "metadata": {},
   "outputs": [],
   "source": [
    "using BenchmarkTools\n",
    "using SparseArrays\n",
    "using LinearAlgebra"
   ]
  },
  {
   "cell_type": "code",
   "execution_count": 2,
   "metadata": {},
   "outputs": [],
   "source": [
    "include(\"./blocksys.jl\")\n",
    "include(\"./structs/matrice.jl\")\n",
    "\n",
    "using .blocksys: gauss_elimination, LU_decomposition, LU_gauss_elimination\n",
    "using .Matrice: load_sparse_matrice, load_vector, load_row_matrice"
   ]
  },
  {
   "cell_type": "markdown",
   "metadata": {},
   "source": [
    "## LU decomposition + Gauss elimination"
   ]
  },
  {
   "cell_type": "code",
   "execution_count": 3,
   "metadata": {},
   "outputs": [
    {
     "name": "stdout",
     "output_type": "stream",
     "text": [
      "Loaded matrice with size 16 and sub_size 4.\n",
      "Loaded vector with size 16.\n",
      "  0.081312 seconds (59.50 k allocations: 2.792 MiB, 10.36% gc time)"
     ]
    },
    {
     "data": {
      "text/plain": [
       "16-element Array{Float64,1}:\n",
       " 1.0000000000000007\n",
       " 1.000000000000001\n",
       " 1.0000000000000007\n",
       " 1.0000000000000016\n",
       " 0.9999999999999997\n",
       " 0.9999999999999996\n",
       " 0.9999999999999997\n",
       " 0.9999999999999993\n",
       " 1.0\n",
       " 1.0\n",
       " 1.0\n",
       " 1.0000000000000002\n",
       " 1.0000000000000002\n",
       " 1.0000000000000002\n",
       " 1.0\n",
       " 1.0000000000000002"
      ]
     },
     "execution_count": 3,
     "metadata": {},
     "output_type": "execute_result"
    },
    {
     "name": "stdout",
     "output_type": "stream",
     "text": [
      "\n"
     ]
    }
   ],
   "source": [
    "A = load_row_matrice(\"data/Dane10000/A.txt\")\n",
    "b = load_vector(\"data/Dane10000/b.txt\")\n",
    "@time LU_gauss_elimination(LU_decomposition(A)..., b)"
   ]
  },
  {
   "cell_type": "code",
   "execution_count": 4,
   "metadata": {},
   "outputs": [
    {
     "name": "stdout",
     "output_type": "stream",
     "text": [
      "Loaded matrice with size 16 and sub_size 4.\n",
      "Loaded vector with size 16.\n",
      "  0.016786 seconds (7.65 k allocations: 346.298 KiB)\n"
     ]
    },
    {
     "data": {
      "text/plain": [
       "16-element Array{Float64,1}:\n",
       " 0.9999999999999999\n",
       " 0.9999999999999998\n",
       " 0.9999999999999998\n",
       " 0.9999999999999998\n",
       " 1.0000000000000004\n",
       " 1.0000000000000004\n",
       " 1.0000000000000002\n",
       " 1.0000000000000007\n",
       " 0.9999999999999997\n",
       " 0.9999999999999998\n",
       " 0.9999999999999998\n",
       " 0.9999999999999997\n",
       " 1.0\n",
       " 1.0\n",
       " 0.9999999999999998\n",
       " 1.0"
      ]
     },
     "execution_count": 4,
     "metadata": {},
     "output_type": "execute_result"
    }
   ],
   "source": [
    "A = load_row_matrice(\"data/Dane10000/A.txt\")\n",
    "b = load_vector(\"data/Dane10000/b.txt\")\n",
    "@time LU_gauss_elimination(LU_decomposition(A, partial_choice=true)..., b)"
   ]
  },
  {
   "cell_type": "markdown",
   "metadata": {},
   "source": [
    "## Gauss elimination"
   ]
  },
  {
   "cell_type": "code",
   "execution_count": 5,
   "metadata": {
    "tags": []
   },
   "outputs": [
    {
     "name": "stdout",
     "output_type": "stream",
     "text": [
      "Loaded matrice with size 16 and sub_size 4.\n",
      "Loaded vector with size 16.\n",
      "  0.056777 seconds (52.89 k allocations: 2.464 MiB)\n"
     ]
    },
    {
     "data": {
      "text/plain": [
       "16-element Array{Float64,1}:\n",
       " 0.9999999999999999\n",
       " 0.9999999999999998\n",
       " 0.9999999999999998\n",
       " 0.9999999999999998\n",
       " 1.0000000000000004\n",
       " 1.0000000000000004\n",
       " 1.0000000000000002\n",
       " 1.0000000000000007\n",
       " 0.9999999999999997\n",
       " 0.9999999999999998\n",
       " 0.9999999999999998\n",
       " 0.9999999999999997\n",
       " 1.0\n",
       " 1.0\n",
       " 0.9999999999999998\n",
       " 1.0"
      ]
     },
     "execution_count": 5,
     "metadata": {},
     "output_type": "execute_result"
    }
   ],
   "source": [
    "A = load_row_matrice(\"data/Dane10000/A.txt\")\n",
    "b = load_vector(\"data/Dane10000/b.txt\")\n",
    "@time gauss_elimination(A, b, partial_choice=true)"
   ]
  },
  {
   "cell_type": "code",
   "execution_count": 6,
   "metadata": {
    "tags": []
   },
   "outputs": [
    {
     "name": "stdout",
     "output_type": "stream",
     "text": [
      "Loaded matrice with size 16 and sub_size 4.\n",
      "Loaded vector with size 16.\n",
      "  0.003154 seconds (2.93 k allocations: 80.927 KiB)\n"
     ]
    },
    {
     "data": {
      "text/plain": [
       "16-element Array{Float64,1}:\n",
       " 1.0000000000000007\n",
       " 1.000000000000001\n",
       " 1.0000000000000007\n",
       " 1.0000000000000016\n",
       " 0.9999999999999997\n",
       " 0.9999999999999996\n",
       " 0.9999999999999997\n",
       " 0.9999999999999993\n",
       " 1.0\n",
       " 1.0\n",
       " 1.0\n",
       " 1.0000000000000002\n",
       " 1.0000000000000002\n",
       " 1.0000000000000002\n",
       " 1.0\n",
       " 1.0000000000000002"
      ]
     },
     "execution_count": 6,
     "metadata": {},
     "output_type": "execute_result"
    }
   ],
   "source": [
    "A = load_row_matrice(\"data/Dane10000/A.txt\")\n",
    "b = load_vector(\"data/Dane10000/b.txt\")\n",
    "@time gauss_elimination(A, b)"
   ]
  }
 ],
 "metadata": {
  "kernelspec": {
   "display_name": "Julia 1.5.2",
   "language": "julia",
   "name": "julia-1.5"
  },
  "language_info": {
   "file_extension": ".jl",
   "mimetype": "application/julia",
   "name": "julia",
   "version": "1.5.2"
  }
 },
 "nbformat": 4,
 "nbformat_minor": 4
}
