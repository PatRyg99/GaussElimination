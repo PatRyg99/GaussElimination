{
 "cells": [
  {
   "cell_type": "code",
   "execution_count": 10,
   "metadata": {},
   "outputs": [],
   "source": [
    "using SparseArrays"
   ]
  },
  {
   "cell_type": "code",
   "execution_count": 16,
   "metadata": {},
   "outputs": [
    {
     "data": {
      "text/plain": [
       "load_matrice (generic function with 1 method)"
      ]
     },
     "execution_count": 16,
     "metadata": {},
     "output_type": "execute_result"
    }
   ],
   "source": [
    "function load_matrice(file_path::String)\n",
    "    open(file_path) do file\n",
    "        \n",
    "        size = 0\n",
    "        sub_size = 0\n",
    "        \n",
    "        # Vectors to build a sparse array from\n",
    "        I = Int64[]\n",
    "        J = Int64[]\n",
    "        V = Float64[]\n",
    "        \n",
    "        for (idx, line) in enumerate(eachline(file))\n",
    "            line = split(line)\n",
    "            \n",
    "            # First row in file holds size and sub_size\n",
    "            if idx == 1\n",
    "                size = parse(Int64, line[1])\n",
    "                sub_size = parse(Int64 ,line[2])\n",
    "            \n",
    "            # Other rows hold [i, j, value] tuples\n",
    "            else\n",
    "                push!(I, parse(Int64, line[1]))\n",
    "                push!(J, parse(Int64, line[2]))\n",
    "                push!(V, parse(Float64, line[3]))\n",
    "            end\n",
    "        end\n",
    "        \n",
    "        # Create custom SparseMatrice type\n",
    "        mat = sparse(I, J, V)\n",
    "        #mat = SparseMatrice(size, sub_size, sparse_array)\n",
    "        #println(\"Loaded matrice with size $size and sub_size $(sub_size).\")\n",
    "\n",
    "        return mat\n",
    "    end\n",
    "end"
   ]
  },
  {
   "cell_type": "code",
   "execution_count": 17,
   "metadata": {},
   "outputs": [
    {
     "data": {
      "text/plain": [
       "16×16 SparseMatrixCSC{Any,Int64} with 88 stored entries:\n",
       "  [1 ,  1]  =  4.61183\n",
       "  [2 ,  1]  =  -6.04673\n",
       "  [3 ,  1]  =  1.1837\n",
       "  [4 ,  1]  =  1.49651\n",
       "  [1 ,  2]  =  -1.2313\n",
       "  [2 ,  2]  =  2.55612\n",
       "  [3 ,  2]  =  6.7787\n",
       "  [4 ,  2]  =  -7.6278\n",
       "  [1 ,  3]  =  1.34933\n",
       "  [2 ,  3]  =  3.91049\n",
       "  [3 ,  3]  =  -3.29769\n",
       "  [4 ,  3]  =  -0.480295\n",
       "  ⋮\n",
       "  [14, 14]  =  1.38013\n",
       "  [15, 14]  =  -2.91593\n",
       "  [16, 14]  =  0.164394\n",
       "  [11, 15]  =  0.131099\n",
       "  [13, 15]  =  3.17531\n",
       "  [14, 15]  =  2.30367\n",
       "  [15, 15]  =  1.77629\n",
       "  [16, 15]  =  -6.39136\n",
       "  [12, 16]  =  0.23254\n",
       "  [13, 16]  =  0.244485\n",
       "  [14, 16]  =  -6.01624\n",
       "  [15, 16]  =  2.30634\n",
       "  [16, 16]  =  5.58264"
      ]
     },
     "execution_count": 17,
     "metadata": {},
     "output_type": "execute_result"
    }
   ],
   "source": [
    "load_matrice(\"data/Dane16/A.txt\")"
   ]
  },
  {
   "cell_type": "code",
   "execution_count": null,
   "metadata": {},
   "outputs": [],
   "source": []
  }
 ],
 "metadata": {
  "kernelspec": {
   "display_name": "Julia 1.5.2",
   "language": "julia",
   "name": "julia-1.5"
  },
  "language_info": {
   "file_extension": ".jl",
   "mimetype": "application/julia",
   "name": "julia",
   "version": "1.5.2"
  }
 },
 "nbformat": 4,
 "nbformat_minor": 4
}
